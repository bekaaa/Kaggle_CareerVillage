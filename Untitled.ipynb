{
 "cells": [
  {
   "cell_type": "code",
   "execution_count": 2,
   "metadata": {},
   "outputs": [],
   "source": [
    "import pandas as pd\n",
    "import numpy as np\n",
    "import seaborn as sns\n",
    "import matplotlib.pyplot as plt"
   ]
  },
  {
   "cell_type": "code",
   "execution_count": 9,
   "metadata": {},
   "outputs": [],
   "source": [
    "answers = pd.read_csv('./data/answers.csv')\n",
    "professionals = pd.read_csv('./data/professionals.csv')\n",
    "questions = pd.read_csv('./data/questions.csv')\n",
    "students = pd.read_csv('./data/students.csv')\n",
    "emails = pd.read_csv('./data/emails.csv')\n",
    "tags = pd.read_csv('./data/tags.csv')\n",
    "comments = pd.read_csv('./data/comments.csv')\n",
    "group_membership = pd.read_csv('./data/group_memberships.csv')\n",
    "school_membership = pd.read_csv('./data/school_memberships.csv')\n",
    "tag_users = pd.read_csv('./data/tag_users.csv')\n",
    "tag_questions = pd.read_csv('./data/tag_questions.csv')"
   ]
  },
  {
   "cell_type": "code",
   "execution_count": 6,
   "metadata": {},
   "outputs": [],
   "source": [
    "#preprocessing datetime data\n",
    "answers.answers_date_added = pd.to_datetime(answers.answers_date_added, infer_datetime_format=True)\n",
    "professionals.professionals_date_joined = pd.to_datetime(professionals.professionals_date_joined, infer_datetime_format=True)\n",
    "questions.questions_date_added = pd.to_datetime(questions.questions_date_added, infer_datetime_format=True)\n",
    "students.students_date_joined = pd.to_datetime(students.students_date_joined, infer_datetime_format=True)\n",
    "emails.emails_date_sent = pd.to_datetime(emails.emails_date_sent, infer_datetime_format=True)\n",
    "comments.comments_date_added = pd.to_datetime(comments.comments_date_added, infer_datetime_format=True)"
   ]
  },
  {
   "cell_type": "code",
   "execution_count": 7,
   "metadata": {},
   "outputs": [],
   "source": [
    "# activity features < first and last time >\n",
    "# Professionals : < answers and comments > \n",
    "temp = answers.groupby('answers_author_id')['answers_date_added']\n",
    "professionals = pd.merge(professionals, pd.DataFrame(data={'date_first_answer':temp.min(), 'date_last_answer':temp.max()}),\n",
    "                         left_on='professionals_id', right_index=True, how='left')\n",
    "\n",
    "temp = comments.groupby('comments_author_id')['comments_date_added']\n",
    "professionals = pd.merge(professionals, pd.DataFrame(data={'date_first_comment':temp.min(), 'date_last_comment':temp.max()}),\n",
    "                         left_on='professionals_id', right_index=True, how='left')\n",
    "\n",
    "# Students : < Questions and Comments >\n",
    "temp = questions.groupby('questions_author_id')['questions_date_added']\n",
    "students = pd.merge(students, pd.DataFrame(data={'date_first_question':temp.min(), 'date_last_question':temp.max()}),\n",
    "                   left_on='students_id', right_index=True, how='left')\n",
    "\n",
    "temp = comments.groupby('comments_author_id')['comments_date_added']\n",
    "students = pd.merge(students, pd.DataFrame(data={'date_first_comment':temp.min(), 'date_last_comment':temp.max()}),\n",
    "                   left_on='students_id', right_index=True, how='left')"
   ]
  },
  {
   "cell_type": "code",
   "execution_count": null,
   "metadata": {},
   "outputs": [],
   "source": [
    "#plotting \n",
    "# 1) Missing Values ratio in Students / professionals\n",
    "st_plot = {}\n",
    "st_plot[''] = students[ students.students_location.isna() == True].shape[0]"
   ]
  },
  {
   "cell_type": "code",
   "execution_count": 140,
   "metadata": {},
   "outputs": [
    {
     "data": {
      "image/png": "[encoded data removed]",
      "text/plain": [
       "<Figure size 432x288 with 1 Axes>"
      ]
     },
     "metadata": {},
     "output_type": "display_data"
    },
    {
     "data": {
      "image/png": "[encoded data removed]",
      "text/plain": [
       "<Figure size 720x360 with 1 Axes>"
      ]
     },
     "metadata": {},
     "output_type": "display_data"
    },
    {
     "data": {
      "image/png": "[encoded data removed]",
      "text/plain": [
       "<Figure size 720x360 with 1 Axes>"
      ]
     },
     "metadata": {},
     "output_type": "display_data"
    }
   ],
   "source": [
    "# \n",
    "#plt_miss_prof = {'Location':0,'Industry':0, 'Headline':0, 'Tag':0, 'School':0, 'Group':0, 'Comments':0, 'Answers':0}\n",
    "#plt_miss_stud = {'Location':0, 'School':0, 'Group':0, 'Tag':0, 'Questions':0, 'Comments':0}\n",
    "plt_miss_prof = {}\n",
    "plt_miss_stud = {}\n",
    "\n",
    "plt_miss_prof['Location'] =  professionals.professionals_location.isna().sum() / professionals.shape[0]\n",
    "plt_miss_prof['Industry'] =  professionals.professionals_industry.isna().sum() / professionals.shape[0]\n",
    "plt_miss_prof['Headline'] =  professionals.professionals_headline.isna().sum() / professionals.shape[0]\n",
    "plt_miss_prof['Tag'] =  tag_users[tag_users.tag_users_user_id.isin(professionals.professionals_id)].tag_users_tag_id.unique().shape[0] / professionals.shape[0]\n",
    "plt_miss_prof['School'] =  school_membership[school_membership.school_memberships_user_id.isin(professionals.professionals_id)].school_memberships_user_id.unique().shape[0] / professionals.shape[0]\n",
    "plt_miss_prof['Group'] =  group_membership[group_membership.group_memberships_user_id.isin(professionals.professionals_id)].group_memberships_user_id.unique().shape[0] / professionals.shape[0]\n",
    "plt_miss_prof['Comments'] =  comments[comments.comments_author_id.isin(professionals.professionals_id)].comments_author_id.unique().shape[0] / professionals.shape[0]\n",
    "plt_miss_prof['Answers'] =  answers[answers.answers_author_id.isin(professionals.professionals_id)].answers_author_id.unique().shape[0] / professionals.shape[0]\n",
    "#----------------------------------------------\n",
    "plt_miss_stud['Location'] =  students.students_location.isna().sum() / students.shape[0]\n",
    "plt_miss_stud['School'] =  school_membership[school_membership.school_memberships_user_id.isin(students.students_id)].school_memberships_user_id.unique().shape[0] / students.shape[0]\n",
    "plt_miss_stud['Group'] =  group_membership[group_membership.group_memberships_user_id.isin(students.students_id)].group_memberships_user_id.unique().shape[0] / students.shape[0]\n",
    "plt_miss_stud['Tag'] =  tag_users[tag_users.tag_users_user_id.isin(students.students_id)].tag_users_tag_id.unique().shape[0] / students.shape[0]\n",
    "plt_miss_stud['Comments'] = comments[comments.comments_author_id.isin(students.students_id)].comments_author_id.unique().shape[0] / students.shape[0]\n",
    "plt_miss_stud['Questions'] =  questions[questions.questions_author_id.isin(students.students_id)].questions_author_id.unique().shape[0] / students.shape[0]\n",
    "#------------------------------------------------------------------------------------\n",
    "#plotting\n",
    "ax, \n",
    "def plot_missing(x,y, title):\n",
    "    ax.set_facecolor('black')\n",
    "    plt.figure(figsize=(10,5))\n",
    "    plt.bar(x, y,width=.5)\n",
    "    plt.title(title)\n",
    "    plt.ylabel('Proportion')\n",
    "    plt.yticks(np.arange(0,1.1,.1))\n",
    "    for i,v in enumerate(y):\n",
    "        plt.text(i,0.05,str(round(v,2)),color='white', fontweight='bold', ha='center',fontsize=12)\n",
    "    plt.show()\n",
    "#-----------------------------------------\n",
    "\n",
    "keys= sorted(plt_miss_prof, key=plt_miss_prof.__getitem__)\n",
    "values = [ plt_miss_prof[x] for x in keys ]\n",
    "plot_missing(keys, values, 'Professionals')\n",
    "\n",
    "keys= sorted(plt_miss_stud, key=plt_miss_stud.__getitem__)\n",
    "values = [ plt_miss_stud[x] for x in keys ]\n",
    "plot_missing(keys, values, 'Students')"
   ]
  },
  {
   "cell_type": "code",
   "execution_count": null,
   "metadata": {},
   "outputs": [],
   "source": [
    "Ques"
   ]
  },
  {
   "cell_type": "code",
   "execution_count": null,
   "metadata": {},
   "outputs": [],
   "source": [
    "sns.countplot(students.students_location)"
   ]
  },
  {
   "cell_type": "code",
   "execution_count": null,
   "metadata": {},
   "outputs": [],
   "source": [
    "temp = answers.groupby('answers_author_id')['answers_date_added']\n"
   ]
  },
  {
   "cell_type": "code",
   "execution_count": 18,
   "metadata": {},
   "outputs": [
    {
     "data": {
      "text/plain": [
       "0.0915032679738562"
      ]
     },
     "execution_count": 18,
     "metadata": {},
     "output_type": "execute_result"
    }
   ],
   "source": [
    "professionals.professionals_industry.isna().sum() / professionals.shape[0]"
   ]
  },
  {
   "cell_type": "code",
   "execution_count": 27,
   "metadata": {},
   "outputs": [
    {
     "data": {
      "text/plain": [
       "4.172279056550156"
      ]
     },
     "execution_count": 27,
     "metadata": {},
     "output_type": "execute_result"
    }
   ],
   "source": [
    "tag_users[tag_users.tag_users_user_id.isin(professionals.professionals_id)].shape[0] / professionals.shape[0]"
   ]
  },
  {
   "cell_type": "code",
   "execution_count": 30,
   "metadata": {},
   "outputs": [
    {
     "data": {
      "text/plain": [
       "4.172279056550156"
      ]
     },
     "execution_count": 30,
     "metadata": {},
     "output_type": "execute_result"
    }
   ],
   "source": [
    " tag_users[tag_users.tag_users_user_id.isin(professionals.professionals_id)].shape[0] \\\n",
    "                    / professionals.shape[0]"
   ]
  },
  {
   "cell_type": "code",
   "execution_count": 35,
   "metadata": {},
   "outputs": [
    {
     "data": {
      "text/plain": [
       "10520"
      ]
     },
     "execution_count": 35,
     "metadata": {},
     "output_type": "execute_result"
    }
   ],
   "source": [
    " tag_users[tag_users.tag_users_user_id.isin(professionals.professionals_id)].tag_users_tag_id.unique().shape[0]"
   ]
  },
  {
   "cell_type": "code",
   "execution_count": 66,
   "metadata": {},
   "outputs": [
    {
     "data": {
      "text/plain": [
       "[0.6263142938334754,\n",
       " 0.6424055129298096,\n",
       " 0.8899545325376528,\n",
       " 0.9084967320261438,\n",
       " 0.9246589940323956,\n",
       " 0.9265771526001705,\n",
       " 0.947641375390736,\n",
       " 0.9825234441602728]"
      ]
     },
     "execution_count": 66,
     "metadata": {},
     "output_type": "execute_result"
    }
   ],
   "source": [
    "values = [ plt_miss_prof[x] for x in keys ]"
   ]
  },
  {
   "cell_type": "code",
   "execution_count": null,
   "metadata": {},
   "outputs": [],
   "source": []
  },
  {
   "cell_type": "code",
   "execution_count": 130,
   "metadata": {},
   "outputs": [
    {
     "data": {
      "image/png": "[encoded data removed]",
      "text/plain": [
       "<Figure size 720x360 with 1 Axes>"
      ]
     },
     "metadata": {
      "needs_background": "light"
     },
     "output_type": "display_data"
    },
    {
     "data": {
      "image/png": "[encoded data removed]",
      "text/plain": [
       "<Figure size 720x360 with 1 Axes>"
      ]
     },
     "metadata": {
      "needs_background": "light"
     },
     "output_type": "display_data"
    }
   ],
   "source": [
    "keys= sorted(plt_miss_prof, key=plt_miss_prof.__getitem__)\n",
    "values = [ plt_miss_prof[x] for x in keys ]\n",
    "\n",
    "plt.figure(figsize=(10,5))\n",
    "plt.bar(keys, values,width=.5)\n",
    "plt.title('Professionals\\' missing values')\n",
    "plt.ylabel('Proportion')\n",
    "plt.yticks(np.arange(0,1.1,.1))\n",
    "for i,v in enumerate(values):\n",
    "    plt.text(i,0.05,str(round(v,2)),color='white', fontweight='bold', ha='center',fontsize=12)\n",
    "plt.show()\n",
    "keys= sorted(plt_miss_prof, key=plt_miss_prof.__getitem__)\n",
    "values = [ plt_miss_prof[x] for x in keys ]\n",
    "\n",
    "plt.figure(figsize=(10,5))\n",
    "plt.bar(keys, values,width=.5)\n",
    "plt.title('Professionals\\' missing values')\n",
    "plt.ylabel('Proportion')\n",
    "plt.yticks(np.arange(0,1.1,.1))\n",
    "for i,v in enumerate(values):\n",
    "    plt.text(i,0.05,str(round(v,2)),color='white', fontweight='bold', ha='center',fontsize=12)\n",
    "plt.show()"
   ]
  }
 ],
 "metadata": {
  "kernelspec": {
   "display_name": "Python 3",
   "language": "python",
   "name": "python3"
  },
  "language_info": {
   "codemirror_mode": {
    "name": "ipython",
    "version": 3
   },
   "file_extension": ".py",
   "mimetype": "text/x-python",
   "name": "python",
   "nbconvert_exporter": "python",
   "pygments_lexer": "ipython3",
   "version": "3.6.9"
  }
 },
 "nbformat": 4,
 "nbformat_minor": 2
}
